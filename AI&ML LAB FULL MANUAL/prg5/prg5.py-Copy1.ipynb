{
 "cells": [
  {
   "cell_type": "code",
   "execution_count": 1,
   "id": "2db79fab",
   "metadata": {},
   "outputs": [
    {
     "name": "stdout",
     "output_type": "stream",
     "text": [
      "Input:  [[0.66666667 1.        ]\n",
      " [0.33333333 0.55555556]\n",
      " [1.         0.66666667]]\n",
      "Actual:  [[0.92]\n",
      " [0.86]\n",
      " [0.89]]\n",
      "Predicted:  [[0.85152981]\n",
      " [0.84150472]\n",
      " [0.8548555 ]]\n"
     ]
    }
   ],
   "source": [
    "import numpy as np\n",
    "X = np.array(([2, 9], [1, 5], [3, 6]), dtype=float)\n",
    "y = np.array(([.92], [.86], [.89]), dtype=float) \n",
    "X = X/np.amax(X, axis=0)\n",
    "\n",
    "def sigmoid(x):\n",
    " return 1 / (1 + np.exp(-x))\n",
    "\n",
    "def der_sigmoid(x): return x * (1 - x)\n",
    "\n",
    "epoch = 5000\n",
    "lr = 0.01\n",
    "neurons_i = 2\n",
    "neurons_h = 3\n",
    "neurons_o = 1\n",
    "\n",
    "weight_h = np.random.uniform(size=(neurons_i, neurons_h)) \n",
    "bias_h = np.random.uniform(size=(1, neurons_h))\n",
    "weight_o = np.random.uniform(size=(neurons_h, neurons_o)) \n",
    "bias_o = np.random.uniform(size=(1, neurons_o))\n",
    "\n",
    "for i in range(epoch):\n",
    " inp_h = np.dot(X, weight_h) + bias_h \n",
    " out_h = sigmoid(inp_h)\n",
    "\n",
    "inp_o = np.dot(out_h, weight_o) + bias_o \n",
    "out_o = sigmoid(inp_o)\n",
    "\n",
    "err_o = y - out_o\n",
    "grad_o = der_sigmoid(out_o) \n",
    "delta_o = err_o * grad_o\n",
    "\n",
    "err_h = delta_o.dot(weight_o.T) \n",
    "grad_h = der_sigmoid(out_h) \n",
    "delta_h = err_h * grad_h\n",
    "\n",
    "weight_o += out_h.T.dot(delta_o) * lr \n",
    "weight_h += X.T.dot(delta_h) * lr\n",
    "\n",
    "print('Input: ', X)\n",
    "print('Actual: ', y) \n",
    "print('Predicted: ', out_o)\n"
   ]
  },
  {
   "cell_type": "code",
   "execution_count": null,
   "id": "753e20f1",
   "metadata": {},
   "outputs": [],
   "source": []
  },
  {
   "cell_type": "code",
   "execution_count": null,
   "id": "d6d2af9a",
   "metadata": {},
   "outputs": [],
   "source": []
  }
 ],
 "metadata": {
  "kernelspec": {
   "display_name": "Python 3 (ipykernel)",
   "language": "python",
   "name": "python3"
  },
  "language_info": {
   "codemirror_mode": {
    "name": "ipython",
    "version": 3
   },
   "file_extension": ".py",
   "mimetype": "text/x-python",
   "name": "python",
   "nbconvert_exporter": "python",
   "pygments_lexer": "ipython3",
   "version": "3.9.7"
  }
 },
 "nbformat": 4,
 "nbformat_minor": 5
}
